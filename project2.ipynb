{
 "cells": [
  {
   "cell_type": "markdown",
   "metadata": {},
   "source": [
    "# Project 2"
   ]
  },
  {
   "cell_type": "markdown",
   "metadata": {},
   "source": [
    "## imports"
   ]
  },
  {
   "cell_type": "code",
   "execution_count": 2,
   "metadata": {
    "collapsed": true
   },
   "outputs": [],
   "source": [
    "import numpy as np\n",
    "import pandas as pd\n",
    "import matplotlib.pyplot as plt\n",
    "%matplotlib inline"
   ]
  },
  {
   "cell_type": "markdown",
   "metadata": {},
   "source": [
    "# Part 1: Data exploration\n",
    "\n",
    "Your first task is to download and explore the data. What features are there? How are they related? Hand two lines that describes.\n",
    "\n",
    "### Frequency\n",
    "\n",
    "Frequency is a messurement used to messure sound. \n",
    "\n",
    "### Median frequency\n",
    "\n",
    "Is the middel value of a sorted dataset.\n",
    "\n",
    "### Output label\n",
    "\n",
    "The output label is used to indentify which gender the voice belongs to.\n",
    "\n"
   ]
  },
  {
   "cell_type": "markdown",
   "metadata": {},
   "source": [
    "# Part 2: Data preparation"
   ]
  },
  {
   "cell_type": "code",
   "execution_count": 7,
   "metadata": {},
   "outputs": [],
   "source": [
    "df = pd.read_csv(\"voice.csv\")"
   ]
  },
  {
   "cell_type": "code",
   "execution_count": 52,
   "metadata": {},
   "outputs": [],
   "source": [
    "y = np.array(df['label'])\n",
    "X = np.array(df.iloc[:,0:20])"
   ]
  },
  {
   "cell_type": "code",
   "execution_count": 56,
   "metadata": {},
   "outputs": [
    {
     "name": "stdout",
     "output_type": "stream",
     "text": [
      "(2851, 20) (317, 20) (2851,) (317,)\n",
      "(2851, 20) (317, 20) (2851,) (317,)\n",
      "(2851, 20) (317, 20) (2851,) (317,)\n",
      "(2851, 20) (317, 20) (2851,) (317,)\n",
      "(2851, 20) (317, 20) (2851,) (317,)\n",
      "(2851, 20) (317, 20) (2851,) (317,)\n",
      "(2851, 20) (317, 20) (2851,) (317,)\n",
      "(2851, 20) (317, 20) (2851,) (317,)\n",
      "(2852, 20) (316, 20) (2852,) (316,)\n",
      "(2852, 20) (316, 20) (2852,) (316,)\n"
     ]
    }
   ],
   "source": [
    "from sklearn.model_selection import KFold\n",
    "kf = KFold(n_splits=10,shuffle=True)\n",
    "\n",
    "for train_index, test_index in kf.split(X):\n",
    "    #print(\"TRAIN:\", train_index, \"TEST:\", test_index)\n",
    "    X_train, X_test = X[train_index], X[test_index]\n",
    "    y_train, y_test = y[train_index], y[test_index]\n",
    "    print(X_train.shape,X_test.shape,y_train.shape,y_test.shape)   \n",
    "    \n"
   ]
  },
  {
   "cell_type": "markdown",
   "metadata": {},
   "source": [
    "# Part 3: Model construction"
   ]
  },
  {
   "cell_type": "code",
   "execution_count": 59,
   "metadata": {},
   "outputs": [],
   "source": [
    "from sklearn.pipeline import Pipeline\n",
    "from sklearn.linear_model import LogisticRegression\n",
    "pipeline1 = Pipeline([('clf',LogisticRegression(random_state=0, solver='lbfgs',multi_class='multinomial'))])\n",
    "\n"
   ]
  }
 ],
 "metadata": {
  "kernelspec": {
   "display_name": "Python 3",
   "language": "python",
   "name": "python3"
  },
  "language_info": {
   "codemirror_mode": {
    "name": "ipython",
    "version": 3
   },
   "file_extension": ".py",
   "mimetype": "text/x-python",
   "name": "python",
   "nbconvert_exporter": "python",
   "pygments_lexer": "ipython3",
   "version": "3.6.3"
  }
 },
 "nbformat": 4,
 "nbformat_minor": 2
}
