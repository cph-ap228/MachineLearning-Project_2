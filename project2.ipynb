{
 "cells": [
  {
   "cell_type": "markdown",
   "metadata": {},
   "source": [
    "# Project 2"
   ]
  },
  {
   "cell_type": "markdown",
   "metadata": {},
   "source": [
    "## imports"
   ]
  },
  {
   "cell_type": "code",
   "execution_count": 2,
   "metadata": {},
   "outputs": [],
   "source": [
    "import numpy as np\n",
    "import pandas as pd\n",
    "import matplotlib.pyplot as plt\n",
    "%matplotlib inline"
   ]
  },
  {
   "cell_type": "markdown",
   "metadata": {},
   "source": [
    "# Part 1: Data exploration\n",
    "\n",
    "### Frequency\n",
    "\n",
    "Frequency is the measurement of the speed of vibration in sound waves, which determines the pitch of the sound. It is the number of wave cycles that occur in one second, measured in Hertz (Hz).\n",
    "\n",
    "### Median frequency\n",
    "\n",
    "Is the middle value of a sorted dataset.\n",
    "\n",
    "### Output label\n",
    "\n",
    "The output label is used to identify which gender the voice belongs to."
   ]
  },
  {
   "cell_type": "markdown",
   "metadata": {},
   "source": [
    "# Part 2: Data preparation"
   ]
  },
  {
   "cell_type": "code",
   "execution_count": 29,
   "metadata": {},
   "outputs": [],
   "source": [
    "df = pd.read_csv(\"voice.csv\")"
   ]
  },
  {
   "cell_type": "code",
   "execution_count": 24,
   "metadata": {},
   "outputs": [],
   "source": [
    "df.loc[df['label'] == 'male', 'label'] = 1\n",
    "df.loc[df['label'] == 'female', 'label'] = 0\n",
    "\n",
    "y = np.array(df['label'])\n",
    "X = np.array(df.iloc[:, 0:20])"
   ]
  },
  {
   "cell_type": "code",
   "execution_count": 26,
   "metadata": {},
   "outputs": [
    {
     "name": "stdout",
     "output_type": "stream",
     "text": [
      "(2851, 20) (317, 20) (2851,) (317,)\n",
      "(2851, 20) (317, 20) (2851,) (317,)\n",
      "(2851, 20) (317, 20) (2851,) (317,)\n",
      "(2851, 20) (317, 20) (2851,) (317,)\n",
      "(2851, 20) (317, 20) (2851,) (317,)\n",
      "(2851, 20) (317, 20) (2851,) (317,)\n",
      "(2851, 20) (317, 20) (2851,) (317,)\n",
      "(2851, 20) (317, 20) (2851,) (317,)\n",
      "(2852, 20) (316, 20) (2852,) (316,)\n",
      "(2852, 20) (316, 20) (2852,) (316,)\n"
     ]
    }
   ],
   "source": [
    "from sklearn.model_selection import KFold\n",
    "\n",
    "\n",
    "kf = KFold(n_splits=10, shuffle=True)\n",
    "\n",
    "for train_index, test_index in kf.split(X):\n",
    "    #print(\"TRAIN:\", train_index, \"TEST:\", test_index)\n",
    "    X_train, X_test = X[train_index], X[test_index]\n",
    "    y_train, y_test = y[train_index], y[test_index]\n",
    "    print(X_train.shape, X_test.shape, y_train.shape, y_test.shape)   "
   ]
  },
  {
   "cell_type": "markdown",
   "metadata": {},
   "source": [
    "# Part 3: Model construction"
   ]
  },
  {
   "cell_type": "code",
   "execution_count": 27,
   "metadata": {},
   "outputs": [],
   "source": [
    "from sklearn.pipeline import Pipeline\n",
    "from sklearn.linear_model import LogisticRegression\n",
    "from sklearn import svm\n",
    "from sklearn.tree import DecisionTreeClassifier\n",
    "from sklearn.neighbors import KNeighborsClassifier\n",
    "\n",
    "\n",
    "pipeline1 = Pipeline([('clf', LogisticRegression(random_state=0, solver='lbfgs', multi_class='multinomial'))])\n",
    "pipeline2 = Pipeline([('SVC', svm.SVC(gamma='scale'))])\n",
    "pipeline3 = Pipeline([('dtc', DecisionTreeClassifier(random_state=0))])\n",
    "pipeline4 = Pipeline([('KNeigh', KNeighborsClassifier(n_neighbors=3))])"
   ]
  },
  {
   "cell_type": "markdown",
   "metadata": {},
   "source": [
    "- Logistic Regression\n",
    "\n",
    "    I think this model will perform porly because this classifier is not meant to be used for labeled. \n",
    "    \n",
    "    \n",
    "- Support Vector Machine classifier / k-Nearest Neighbors classifier\n",
    "\n",
    "    I think this or the k-Nearest Neighbors classifier will be the best at predicting the correct values. Because these clasifiers are normally used for labeled data.\n",
    "\n",
    "\n",
    "\n",
    "\n",
    "- Decision Tree classifier"
   ]
  }
 ],
 "metadata": {
  "kernelspec": {
   "display_name": "Python 3",
   "language": "python",
   "name": "python3"
  },
  "language_info": {
   "codemirror_mode": {
    "name": "ipython",
    "version": 3
   },
   "file_extension": ".py",
   "mimetype": "text/x-python",
   "name": "python",
   "nbconvert_exporter": "python",
   "pygments_lexer": "ipython3",
   "version": "3.7.2"
  }
 },
 "nbformat": 4,
 "nbformat_minor": 2
}
